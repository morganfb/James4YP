{
 "cells": [
  {
   "cell_type": "code",
   "execution_count": 26,
   "metadata": {
    "collapsed": true
   },
   "outputs": [],
   "source": [
    "%matplotlib inline\n",
    "import numpy as np\n",
    "import scipy as sp\n",
    "import matplotlib as mpl\n",
    "import matplotlib.cm as cm\n",
    "import matplotlib.pyplot as plt\n",
    "import pandas as pd\n",
    "import seaborn as sns\n",
    "from bs4 import BeautifulSoup\n",
    "import requests\n",
    "import json\n",
    "import time\n",
    "import string\n",
    "import math\n",
    "import re"
   ]
  },
  {
   "cell_type": "code",
   "execution_count": 89,
   "metadata": {
    "collapsed": false,
    "scrolled": false
   },
   "outputs": [],
   "source": [
    "def make_small_df(mV,num,exp):\n",
    "    text_file1 = open(\"/Users/morganfbreitmeyer/Desktop/\"+exp+\"/\"+str(mV)+\"mV/Cavit1_00\"+str(num).zfill(2)+\".txt\", \"r\")\n",
    "    x = re.split('\\t|\\r|\\n',text_file1.read().split('<<<<\"')[1])\n",
    "    x = filter(None,x)\n",
    "    tups = [(x[i],x[i+1], x[i+2]) for i in range(0,len(x),3)]\n",
    "\n",
    "    df_1 = pd.DataFrame(tups, columns=['Time', 'Value', 'Error'])\n",
    "    df_1[\"mV\"] = mV\n",
    "    df_1[\"num\"] = num\n",
    "    del df_1['Error']\n",
    "    return df_1"
   ]
  },
  {
   "cell_type": "code",
   "execution_count": null,
   "metadata": {
    "collapsed": false
   },
   "outputs": [],
   "source": [
    "TalcAgar1 = pd.DataFrame(columns = [\"Time\", \"Value\", \"mV\", \"num\"])\n",
    "for i in range(1,11): \n",
    "    for j in range(10, 410, 10): \n",
    "        adding_df = make_small_df(j,i,\"TalcAgar1\")\n",
    "        TalcAgar1 = pd.concat([TalcAgar1, adding_df], ignore_index = True)"
   ]
  },
  {
   "cell_type": "code",
   "execution_count": null,
   "metadata": {
    "collapsed": true
   },
   "outputs": [],
   "source": [
    "TalcAgar1.head(300)"
   ]
  },
  {
   "cell_type": "code",
   "execution_count": null,
   "metadata": {
    "collapsed": true
   },
   "outputs": [],
   "source": [
    "TalcAgar1.to_csv('TalcAgar1.csv')"
   ]
  },
  {
   "cell_type": "code",
   "execution_count": null,
   "metadata": {
    "collapsed": true
   },
   "outputs": [],
   "source": [
    "TalcAgar2 = pd.DataFrame(columns = [\"Time\", \"Value\", \"mV\", \"num\"])\n",
    "for i in range(1,11): \n",
    "    for j in range(10, 410, 10): \n",
    "        adding_df = make_small_df(j,i,\"TalcAgar2\")\n",
    "        TalcAgar2 = pd.concat([TalcAgar2, adding_df], ignore_index = True)\n",
    "TalcAgar2.to_csv('TalcAgar2.csv')"
   ]
  },
  {
   "cell_type": "code",
   "execution_count": null,
   "metadata": {
    "collapsed": true
   },
   "outputs": [],
   "source": [
    "NiceSampleAgarGel = pd.DataFrame(columns = [\"Time\", \"Value\", \"mV\", \"num\"])\n",
    "for i in range(1,11): \n",
    "    for j in range(10, 410, 10): \n",
    "        adding_df = make_small_df(j,i,\"NiceSampleAgarGel\")\n",
    "        NiceSampleAgarGel = pd.concat([NiceSampleAgarGel, adding_df], ignore_index = True)\n",
    "NiceSampleAgarGel.to_csv('NiceSampleAgarGel.csv')"
   ]
  },
  {
   "cell_type": "code",
   "execution_count": null,
   "metadata": {
    "collapsed": true
   },
   "outputs": [],
   "source": [
    "WorseSampleAgarGel = pd.DataFrame(columns = [\"Time\", \"Value\", \"mV\", \"num\"])\n",
    "for i in range(1,11): \n",
    "    for j in range(10, 410, 10): \n",
    "        adding_df = make_small_df(j,i,\"WorseSampleAgarGel\")\n",
    "        WorseSampleAgarGel = pd.concat([WorseSampleAgarGel, adding_df], ignore_index = True)\n",
    "WorseSampleAgarGel.to_csv('WorseSampleAgarGel.csv')"
   ]
  }
 ],
 "metadata": {
  "kernelspec": {
   "display_name": "Python 2",
   "language": "python",
   "name": "python2"
  },
  "language_info": {
   "codemirror_mode": {
    "name": "ipython",
    "version": 2
   },
   "file_extension": ".py",
   "mimetype": "text/x-python",
   "name": "python",
   "nbconvert_exporter": "python",
   "pygments_lexer": "ipython2",
   "version": "2.7.10"
  }
 },
 "nbformat": 4,
 "nbformat_minor": 0
}
